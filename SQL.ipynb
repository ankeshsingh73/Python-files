{
 "cells": [
  {
   "cell_type": "code",
   "execution_count": 10,
   "metadata": {},
   "outputs": [
    {
     "name": "stdout",
     "output_type": "stream",
     "text": [
      "   index        MID                       title  year  rating  num_votes\n",
      "0      0  tt2388771                      Mowgli  2018     6.6      21967\n",
      "1      1  tt5164214               Ocean's Eight  2018     6.2     110861\n",
      "2      2  tt1365519                 Tomb Raider  2018     6.4     142585\n",
      "3      3  tt0848228                The Avengers  2012     8.1    1137529\n",
      "4      4  tt8239946                     Tumbbad  2018     8.5       7483\n",
      "5      5  tt7027278                   Kedarnath  2018     5.5       1970\n",
      "6      6  tt3498820  Captain America: Civil War  2016     7.8     536641\n",
      "7      7  tt8108198                   Andhadhun  2018     9.0      18160\n",
      "8      8  tt3741834                        Lion  2016     8.1     170216\n",
      "9      9  tt6747420                Rajma Chawal  2018     5.7        681\n"
     ]
    }
   ],
   "source": [
    "import sqlite3\n",
    "import pandas as pd\n",
    "conn = sqlite3.connect('Db-IMDB.db')\n",
    "result=pd.read_sql_query(\"SELECT * FROM MOVIE LIMIT 10\",conn)\n",
    "print (result)\n"
   ]
  },
  {
   "cell_type": "code",
   "execution_count": null,
   "metadata": {},
   "outputs": [],
   "source": [
    "\"SELECT MID, Year from Movie as m INNER JOIN M-direction as n ON m.MID=n.MID \""
   ]
  }
 ],
 "metadata": {
  "kernelspec": {
   "display_name": "Python 3",
   "language": "python",
   "name": "python3"
  },
  "language_info": {
   "codemirror_mode": {
    "name": "ipython",
    "version": 3
   },
   "file_extension": ".py",
   "mimetype": "text/x-python",
   "name": "python",
   "nbconvert_exporter": "python",
   "pygments_lexer": "ipython3",
   "version": "3.7.3"
  }
 },
 "nbformat": 4,
 "nbformat_minor": 2
}
