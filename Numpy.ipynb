{
 "cells": [
  {
   "cell_type": "code",
   "execution_count": 3,
   "metadata": {},
   "outputs": [
    {
     "name": "stdout",
     "output_type": "stream",
     "text": [
      "[ 1  2  3  4  5 10]\n",
      "<class 'numpy.ndarray'>\n"
     ]
    },
    {
     "data": {
      "text/plain": [
       "'explicityly we are giving a list and numpy is converting into an array of package-numpy.ndarray'"
      ]
     },
     "execution_count": 3,
     "metadata": {},
     "output_type": "execute_result"
    }
   ],
   "source": [
    "import numpy as np\n",
    "a=np.array([1,2,3,4,5,10])\n",
    "print (a)\n",
    "print (type(a))\n",
    "\"\"\"explicityly we are giving a list and numpy is converting into an array of package-numpy.ndarray\"\"\""
   ]
  },
  {
   "cell_type": "code",
   "execution_count": 11,
   "metadata": {},
   "outputs": [
    {
     "name": "stdout",
     "output_type": "stream",
     "text": [
      "[0, 1, 2, 3, 4, 5, 6, 7, 8, 9, 10, 11, 12, 13, 14, 15, 16, 17, 18, 19, 20, 21, 22, 23, 24, 25, 26, 27, 28, 29, 30, 31, 32, 33, 34, 35, 36, 37, 38, 39, 40, 41, 42, 43, 44, 45, 46, 47, 48, 49, 50, 51, 52, 53, 54, 55, 56, 57, 58, 59, 60, 61, 62, 63, 64, 65, 66, 67, 68, 69, 70, 71, 72, 73, 74, 75, 76, 77, 78, 79, 80, 81, 82, 83, 84, 85, 86, 87, 88, 89, 90, 91, 92, 93, 94, 95, 96, 97, 98, 99]\n",
      "81.8 µs ± 4.64 µs per loop (mean ± std. dev. of 7 runs, 10000 loops each)\n"
     ]
    },
    {
     "data": {
      "text/plain": [
       "'it takes 71.1 micro seconds to yield'"
      ]
     },
     "execution_count": 11,
     "metadata": {},
     "output_type": "execute_result"
    }
   ],
   "source": [
    "\"\"\"How to prove numpy is faster that builtin data structure of python ?\"\"\"\n",
    "#lets see time taken by list for an operation\n",
    "l1=list(range (100))\n",
    "print (l1)\n",
    "%timeit a=list(i**2 for i in l1)\n",
    "\"\"\"it takes 71.1 micro seconds to yield\"\"\""
   ]
  },
  {
   "cell_type": "code",
   "execution_count": 17,
   "metadata": {},
   "outputs": [
    {
     "name": "stdout",
     "output_type": "stream",
     "text": [
      "39.8 µs ± 8.46 µs per loop (mean ± std. dev. of 7 runs, 10000 loops each)\n"
     ]
    }
   ],
   "source": [
    "\"\"\"Lets calucate %timeit for array using numpy\"\"\"\n",
    "ar1=np.arange(100)\n",
    "ar1\n",
    "%timeit [i**2 for i in ar1]\n",
    "#numpy array takes atleast half the time as of LISTS\n"
   ]
  },
  {
   "cell_type": "code",
   "execution_count": 19,
   "metadata": {},
   "outputs": [
    {
     "name": "stdout",
     "output_type": "stream",
     "text": [
      "1.32 µs ± 20.8 ns per loop (mean ± std. dev. of 7 runs, 1000000 loops each)\n"
     ]
    }
   ],
   "source": [
    "%timeit ar1**2"
   ]
  },
  {
   "cell_type": "code",
   "execution_count": 24,
   "metadata": {},
   "outputs": [
    {
     "data": {
      "text/plain": [
       "array([1, 2, 3, 4, 5])"
      ]
     },
     "execution_count": 24,
     "metadata": {},
     "output_type": "execute_result"
    }
   ],
   "source": [
    "#creation of array in numpy and basic methods\n",
    "ar1=np.array([1,2,3,4,5])\n",
    "ar1\n"
   ]
  },
  {
   "cell_type": "code",
   "execution_count": 25,
   "metadata": {},
   "outputs": [
    {
     "data": {
      "text/plain": [
       "array([0, 1, 2, 3, 4, 5, 6, 7, 8, 9])"
      ]
     },
     "execution_count": 25,
     "metadata": {},
     "output_type": "execute_result"
    }
   ],
   "source": [
    "ar2=np.arange(10)\n",
    "ar2"
   ]
  },
  {
   "cell_type": "code",
   "execution_count": 29,
   "metadata": {},
   "outputs": [
    {
     "data": {
      "text/plain": [
       "1"
      ]
     },
     "execution_count": 29,
     "metadata": {},
     "output_type": "execute_result"
    }
   ],
   "source": [
    "#dimension- 1d array\n",
    "ar2.ndim\n"
   ]
  },
  {
   "cell_type": "code",
   "execution_count": 30,
   "metadata": {},
   "outputs": [
    {
     "data": {
      "text/plain": [
       "(10,)"
      ]
     },
     "execution_count": 30,
     "metadata": {},
     "output_type": "execute_result"
    }
   ],
   "source": [
    "#shape of array\n",
    "ar2.shape\n"
   ]
  },
  {
   "cell_type": "code",
   "execution_count": 31,
   "metadata": {},
   "outputs": [
    {
     "data": {
      "text/plain": [
       "10"
      ]
     },
     "execution_count": 31,
     "metadata": {},
     "output_type": "execute_result"
    }
   ],
   "source": [
    "#length of array- always gives the length of the first array,since it is a vector, total elements in 1st row is 10\n",
    "len(ar2)"
   ]
  },
  {
   "cell_type": "code",
   "execution_count": 18,
   "metadata": {},
   "outputs": [
    {
     "name": "stdout",
     "output_type": "stream",
     "text": [
      "dimension: 3\n"
     ]
    },
    {
     "data": {
      "text/plain": [
       "(1, 1, 3)"
      ]
     },
     "execution_count": 18,
     "metadata": {},
     "output_type": "execute_result"
    }
   ],
   "source": [
    "x=np.array([[[1,2,4]]])\n",
    "print (\"dimension: {}\".format(x.ndim))\n",
    "x.shape"
   ]
  },
  {
   "cell_type": "code",
   "execution_count": 40,
   "metadata": {},
   "outputs": [
    {
     "name": "stdout",
     "output_type": "stream",
     "text": [
      "[[  1   2   4]\n",
      " [  1   4  16]\n",
      " [  1  16 256]]\n",
      "2\n",
      "(3, 3)\n",
      "3\n"
     ]
    }
   ],
   "source": [
    "#multidimension array\n",
    "ar3=np.array([[1,2,4],[1,4,16],[1,16,256]])\n",
    "print (ar3)\n",
    "print (ar3.ndim)#gives the dimension, vector or tensor \n",
    "print (ar3.shape)# shape tell us number of rows and columns-m and n say -it contains the size along all axes \n",
    "print (len(ar3)) #length gives total number of elements i.e. m*n NOOOO len only returns the size along the first axis:"
   ]
  },
  {
   "cell_type": "code",
   "execution_count": 39,
   "metadata": {},
   "outputs": [
    {
     "name": "stdout",
     "output_type": "stream",
     "text": [
      "[[[1 2]\n",
      "  [1 4]]\n",
      "\n",
      " [[1 4]\n",
      "  [1 9]]]\n",
      "3\n",
      "2\n",
      "(2, 2, 2)\n"
     ]
    }
   ],
   "source": [
    "#3dimensional array\n",
    "ar4=np.array([[[1,2],[1,4]],[[1,4],[1,9]]])\n",
    "print (ar4)\n",
    "print (ar4.ndim)\n",
    "print (len(ar4))\n",
    "print (ar4.shape)"
   ]
  },
  {
   "cell_type": "code",
   "execution_count": 41,
   "metadata": {},
   "outputs": [
    {
     "name": "stdout",
     "output_type": "stream",
     "text": [
      "[1 3 5 7 9]\n"
     ]
    }
   ],
   "source": [
    "print (np.arange(1,10,2)) #start=1, stop-10, step size-2\n"
   ]
  },
  {
   "cell_type": "code",
   "execution_count": 47,
   "metadata": {},
   "outputs": [
    {
     "name": "stdout",
     "output_type": "stream",
     "text": [
      "[ 10.  20.  30.  40.  50.  60.  70.  80.  90. 100.]\n",
      "[10. 19. 28. 37. 46. 55. 64. 73. 82. 91.]\n"
     ]
    }
   ],
   "source": [
    "\"\"\"array creation in numpy using linear space\"\"\"\n",
    "#linspace provides evenly spaced intervals between two points \n",
    "ar=np.linspace(10,100,10)\n",
    "print (ar)\n",
    "ar1=np.linspace(10,100,10,endpoint=False) #endpoint is false so stop will not be included\n",
    "print (ar1)"
   ]
  },
  {
   "cell_type": "code",
   "execution_count": 59,
   "metadata": {},
   "outputs": [
    {
     "name": "stdout",
     "output_type": "stream",
     "text": [
      "[[0. 0. 0.]\n",
      " [0. 0. 0.]]\n",
      "2\n",
      "(2, 3)\n",
      "2\n"
     ]
    }
   ],
   "source": [
    "\"\"\"common arrays\"\"\"\n",
    "arzero=np.zeros((2,3))\n",
    "print (arzero)\n",
    "print (arzero.ndim)\n",
    "print (arzero.shape)\n",
    "print (len(arzero))\n",
    "\"\"\"Data type for common arrays is always float 64 byte\"\"\""
   ]
  },
  {
   "cell_type": "code",
   "execution_count": 57,
   "metadata": {},
   "outputs": [
    {
     "name": "stdout",
     "output_type": "stream",
     "text": [
      "[[1. 1.]\n",
      " [1. 1.]\n",
      " [1. 1.]]\n",
      "2\n",
      "(3, 2)\n",
      "3\n"
     ]
    }
   ],
   "source": [
    "\n",
    "\"\"\"Now creating an array of elements containing one\"\"\"\n",
    "arones=np.ones((3,2)) #common arrays function always takes tuple as parameter and creates 2d array \n",
    "print (arones)\n",
    "print (arones.ndim)\n",
    "print (arones.shape)\n",
    "print (len(arones))"
   ]
  },
  {
   "cell_type": "code",
   "execution_count": 78,
   "metadata": {},
   "outputs": [
    {
     "name": "stdout",
     "output_type": "stream",
     "text": [
      "[[1. 0. 0.]\n",
      " [0. 1. 0.]\n",
      " [0. 0. 1.]]\n",
      "2\n",
      "3\n",
      "___________________________________________________________________\n",
      "[[1. 0. 0. 0.]\n",
      " [0. 1. 0. 0.]\n",
      " [0. 0. 1. 0.]]\n",
      "float64\n"
     ]
    }
   ],
   "source": [
    "\"\"\"Identity matrix\"\"\"\n",
    "I=np.eye(3)\n",
    "print (I)\n",
    "print (I.ndim)\n",
    "print (len(I))\n",
    "print(\"___________________________________________________________________\")\n",
    "\"\"\"from top left to bottom right Identity matrix is created diagonally based on the dimension\"\"\"\n",
    "I1=np.eye(3,4)\n",
    "print (I1)\n",
    "\"\"\"rest other elements of the matrix are represent as float of 64 bit\"\"\"\n",
    "print (I1.dtype)"
   ]
  },
  {
   "cell_type": "code",
   "execution_count": 79,
   "metadata": {},
   "outputs": [
    {
     "name": "stdout",
     "output_type": "stream",
     "text": [
      "[[  1   0   0   0   0]\n",
      " [  0   2   0   0   0]\n",
      " [  0   0   4   0   0]\n",
      " [  0   0   0  16   0]\n",
      " [  0   0   0   0 256]]\n",
      "2\n",
      "(5, 5)\n",
      "5\n",
      "int32\n"
     ]
    },
    {
     "data": {
      "text/plain": [
       "'All other values other than diagonal elements are zeros'"
      ]
     },
     "execution_count": 79,
     "metadata": {},
     "output_type": "execute_result"
    }
   ],
   "source": [
    "\"\"\"Creating a diagonal matrix\"\"\"\n",
    "\"\"\"np.diag creates a diagonal matrix based on the elements provided in the form of a List\"\"\"\n",
    "D1=np.diag([1,2,4,16,256])\n",
    "print (D1)\n",
    "print (D1.ndim)\n",
    "print (D1.shape)\n",
    "print (len(D1))\n",
    "print (D1.dtype)\n",
    "\"\"\"All other values other than diagonal elements are zeros\"\"\""
   ]
  },
  {
   "cell_type": "code",
   "execution_count": 73,
   "metadata": {},
   "outputs": [
    {
     "name": "stdout",
     "output_type": "stream",
     "text": [
      "[0.21256176 0.62025996 0.65383541 0.4251817  0.17507767 0.6138684 ]\n"
     ]
    },
    {
     "data": {
      "text/plain": [
       "array([0.21256176, 0.62025996, 0.65383541, 0.4251817 , 0.17507767,\n",
       "       0.6138684 ])"
      ]
     },
     "execution_count": 73,
     "metadata": {},
     "output_type": "execute_result"
    }
   ],
   "source": [
    "\"\"\"Creating a random array\"\"\"\n",
    "r1=np.random.rand(6)\n",
    "print (r1) #print function just represent the value in the list, not seprated with comma, we use repr() to get CSV\n",
    "r1\n",
    "\n",
    "#random is a module and rand is a function"
   ]
  },
  {
   "cell_type": "code",
   "execution_count": 75,
   "metadata": {},
   "outputs": [
    {
     "name": "stdout",
     "output_type": "stream",
     "text": [
      "array([0.37880116, 0.74645425, 0.08099948, 0.44556919, 0.23986545,\n",
      "       0.99790599, 0.4871304 , 0.37237074])\n"
     ]
    },
    {
     "data": {
      "text/plain": [
       "array([0.37880116, 0.74645425, 0.08099948, 0.44556919, 0.23986545,\n",
       "       0.99790599, 0.4871304 , 0.37237074])"
      ]
     },
     "execution_count": 75,
     "metadata": {},
     "output_type": "execute_result"
    }
   ],
   "source": [
    "r2=np.random.rand(8)\n",
    "print (repr(r2))#print function just represent the value in the list, not seprated with comma, we use repr() to get CSV\n",
    "r2"
   ]
  },
  {
   "cell_type": "code",
   "execution_count": 83,
   "metadata": {},
   "outputs": [
    {
     "name": "stdout",
     "output_type": "stream",
     "text": [
      "array([0, 1, 2, 3, 4, 5, 6, 7])\n",
      "int32\n",
      "array([0., 1., 2., 3., 4., 5., 6., 7., 8., 9.])\n",
      "float64\n"
     ]
    },
    {
     "data": {
      "text/plain": [
       "'Complex dtype array'"
      ]
     },
     "execution_count": 83,
     "metadata": {},
     "output_type": "execute_result"
    }
   ],
   "source": [
    "\"\"\"Understanding even of Numpy\"\"\"\n",
    "ar1=np.arange(8) #by default, ap.arange has ddtype as int \n",
    "print (repr(ar1))\n",
    "print (ar1.dtype)\n",
    "ar2=np.arange(10, dtype='float')\n",
    "print (repr(ar2))\n",
    "print (ar2.dtype)\n",
    "\n"
   ]
  },
  {
   "cell_type": "code",
   "execution_count": 88,
   "metadata": {},
   "outputs": [
    {
     "name": "stdout",
     "output_type": "stream",
     "text": [
      "[1.+2.j 2.+4.j]\n"
     ]
    },
    {
     "data": {
      "text/plain": [
       "dtype('complex128')"
      ]
     },
     "execution_count": 88,
     "metadata": {},
     "output_type": "execute_result"
    }
   ],
   "source": [
    "\"\"\"Complex dtype array\"\"\"\n",
    "c1=np.array([1+2j,2+4j])\n",
    "print (c1)\n",
    "c1.dtype"
   ]
  },
  {
   "cell_type": "code",
   "execution_count": 92,
   "metadata": {},
   "outputs": [
    {
     "name": "stdout",
     "output_type": "stream",
     "text": [
      "[1 2 4 5 6]\n"
     ]
    },
    {
     "data": {
      "text/plain": [
       "5"
      ]
     },
     "execution_count": 92,
     "metadata": {},
     "output_type": "execute_result"
    }
   ],
   "source": [
    "\"\"\"How to access elements in numpy.ndarray\"\"\"\n",
    "ar1=np.array([1,2,4,5,6])\n",
    "print (ar1)\n",
    "ar1[3]\n",
    "\n"
   ]
  },
  {
   "cell_type": "code",
   "execution_count": 94,
   "metadata": {},
   "outputs": [
    {
     "name": "stdout",
     "output_type": "stream",
     "text": [
      "array([[1, 0, 0, 0, 0],\n",
      "       [0, 2, 0, 0, 0],\n",
      "       [0, 0, 3, 0, 0],\n",
      "       [0, 0, 0, 4, 0],\n",
      "       [0, 0, 0, 0, 5]])\n",
      "3\n",
      "array([[  1,   0,   0,   0,   0],\n",
      "       [  0,   2,   0,   0,   0],\n",
      "       [  0,   0,   3,   0,   0],\n",
      "       [  0,   0,   0, 101,   0],\n",
      "       [  0,   0,   0,   0,   5]])\n"
     ]
    }
   ],
   "source": [
    "\"\"\"In a 2d array\"\"\"\n",
    "d1=np.diag([1,2,3,4,5])\n",
    "print (repr(d1))\n",
    "print (d1[2][2])\n",
    "d1[3][3]=101\n",
    "print (repr(d1))"
   ]
  },
  {
   "cell_type": "code",
   "execution_count": 99,
   "metadata": {},
   "outputs": [
    {
     "name": "stdout",
     "output_type": "stream",
     "text": [
      "array([0.255494  , 0.5817411 , 0.93202901, 0.35168117, 0.15199915])\n",
      "[0.93202901 0.35168117 0.15199915]\n",
      "[0.5817411  0.35168117]\n"
     ]
    }
   ],
   "source": [
    "a1=np.random.rand(5)\n",
    "print (repr(a1))\n",
    "print (a1[2:])\n",
    "print (a1[1:4:2])\n"
   ]
  },
  {
   "cell_type": "code",
   "execution_count": 103,
   "metadata": {},
   "outputs": [
    {
     "data": {
      "text/plain": [
       "array([4, 3, 2, 1, 0])"
      ]
     },
     "execution_count": 103,
     "metadata": {},
     "output_type": "execute_result"
    }
   ],
   "source": [
    "a=np.arange(5)\n",
    "b=a[::-1]\n",
    "b"
   ]
  },
  {
   "cell_type": "code",
   "execution_count": 119,
   "metadata": {},
   "outputs": [
    {
     "name": "stdout",
     "output_type": "stream",
     "text": [
      "array([ 10,  20,  30,  40,  50,  60,  70,  80,  90, 100])\n",
      "array([10, 50, 90])\n",
      "True\n",
      "____________________________-\n",
      "array([ 10, 999,  90])\n",
      "array([ 10,  20,  30,  40, 999,  60,  70,  80,  90, 100])\n",
      "_____________________________________\n",
      "1294189919488\n",
      "1294189919648\n",
      "_____________________________________\n"
     ]
    }
   ],
   "source": [
    "\"\"\"Copies and views in array\"\"\"\n",
    "\"\"\"Numpy avoids creation of different array for the same purpose \"\"\"\n",
    "a=np.arange(10,110,10)\n",
    "print (repr(a))\n",
    "b=a[0:9:4]\n",
    "\"\"\"since b is being created from an array pointed by a in RAM, numpy don't allow to create a different array,\n",
    "istead numpy helps to genereate a view for array with name b\"\"\"\n",
    "print (repr(b))\n",
    "print (np.shares_memory(a,b))\n",
    "print('____________________________-')\n",
    "b[1]=999\n",
    "print (repr(b))\n",
    "print (repr(a)) #since a and b shares same part of memory, change in b get a updated ! Bingooooooo\n",
    "print ('_____________________________________')\n",
    "print (id(a))\n",
    "print (id (b))\n",
    "print ('_____________________________________')\n"
   ]
  },
  {
   "cell_type": "code",
   "execution_count": 127,
   "metadata": {},
   "outputs": [
    {
     "name": "stdout",
     "output_type": "stream",
     "text": [
      "array([ 3,  6,  9, 12, 15, 18, 21, 24, 27])\n",
      "array([15, 12,  9,  6,  3])\n",
      "False\n"
     ]
    }
   ],
   "source": [
    "\"\"\"TO avoid similar condition, we use copy fucntion\"\"\"\n",
    "a=np.arange(3,30,3)\n",
    "print (repr(a))\n",
    "b=a[4::-1].copy()\n",
    "print (repr(b))\n",
    "print (np.shares_memory(a,b))"
   ]
  },
  {
   "cell_type": "code",
   "execution_count": 154,
   "metadata": {},
   "outputs": [
    {
     "name": "stdout",
     "output_type": "stream",
     "text": [
      "array([94, 80, 74, 20, 63, 76, 81, 93, 44,  5])\n",
      "[array([ True,  True,  True,  True, False,  True, False, False,  True,\n",
      "       False])]\n",
      "<class 'list'>\n",
      "<class 'numpy.ndarray'>\n",
      "Does a and mask share the same memory: False\n",
      "array([94, 80, 74, 20, 76, 44])\n",
      "Does a and even share the same memory: False\n"
     ]
    },
    {
     "name": "stderr",
     "output_type": "stream",
     "text": [
      "C:\\Users\\Ankesh\\Anaconda3\\lib\\site-packages\\ipykernel_launcher.py:9: FutureWarning: Using a non-tuple sequence for multidimensional indexing is deprecated; use `arr[tuple(seq)]` instead of `arr[seq]`. In the future this will be interpreted as an array index, `arr[np.array(seq)]`, which will result either in an error or a different result.\n",
      "  if __name__ == '__main__':\n"
     ]
    },
    {
     "data": {
      "text/plain": [
       "\"Mask creates copies and not the views, hence even being the subarray of a, they don't share memory !\""
      ]
     },
     "execution_count": 154,
     "metadata": {},
     "output_type": "execute_result"
    }
   ],
   "source": [
    "\"\"\"Fancy indexing\"\"\"\n",
    "a=np.random.randint(1,100,10)\n",
    "print (repr(a))\n",
    "mask=[a%2==0]\n",
    "print (repr(mask))\n",
    "print (type(mask))\n",
    "print (type(mask[0]))\n",
    "print ('Does a and mask share the same memory: {}'.format(np.shares_memory(a,mask)))\n",
    "even=a[mask]\n",
    "print (repr(even))\n",
    "print ('Does a and even share the same memory: {}'.format(np.shares_memory(a,even)))\n",
    "\"\"\"Mask creates copies and not the views, hence even being the subarray of a, they don't share memory !\"\"\""
   ]
  },
  {
   "cell_type": "code",
   "execution_count": 161,
   "metadata": {},
   "outputs": [
    {
     "name": "stdout",
     "output_type": "stream",
     "text": [
      "array([41, 17, 22, 52, 78, 89, 47, 89,  6, 57])\n",
      "array([17, 52, 78, 89])\n"
     ]
    },
    {
     "data": {
      "text/plain": [
       "array([   41,    17, -3000, -3000,    78, -3000,    47, -3000,     6,\n",
       "          57])"
      ]
     },
     "execution_count": 161,
     "metadata": {},
     "output_type": "execute_result"
    }
   ],
   "source": [
    "a=np.random.randint(1,100,10)\n",
    "print (repr(a))\n",
    "print (repr(a[[1,3,4,5]]))\n",
    "a[[2,3,7,5]]=-3000\n",
    "a"
   ]
  },
  {
   "cell_type": "code",
   "execution_count": 172,
   "metadata": {},
   "outputs": [
    {
     "name": "stdout",
     "output_type": "stream",
     "text": [
      "array([1, 2, 3, 4, 5, 6, 7, 8, 9])\n",
      "array([11, 12, 13, 14, 15, 16, 17, 18, 19])\n",
      "array([ 2,  4,  6,  8, 10, 12, 14, 16, 18])\n",
      "array([9, 8, 7, 6, 5, 4, 3, 2, 1])\n"
     ]
    }
   ],
   "source": [
    "\"\"\"Numerical operations in array\"\"\"\n",
    "a=np.arange(1,10,1)\n",
    "print (repr(a))\n",
    "a+=10\n",
    "print (repr(a))\n",
    "b=np.arange(2,20,2)\n",
    "print (repr(b))\n",
    "print (repr(a-b))"
   ]
  },
  {
   "cell_type": "code",
   "execution_count": 192,
   "metadata": {},
   "outputs": [
    {
     "name": "stdout",
     "output_type": "stream",
     "text": [
      "array([[1., 1., 1., 1.],\n",
      "       [1., 1., 1., 1.],\n",
      "       [1., 1., 1., 1.],\n",
      "       [1., 1., 1., 1.]])\n",
      "array([[1, 0, 0, 0],\n",
      "       [0, 2, 0, 0],\n",
      "       [0, 0, 4, 0],\n",
      "       [0, 0, 0, 5]])\n",
      "[[1. 2. 4. 5.]\n",
      " [1. 2. 4. 5.]\n",
      " [1. 2. 4. 5.]\n",
      " [1. 2. 4. 5.]]\n",
      "[[1. 0. 0. 0.]\n",
      " [0. 2. 0. 0.]\n",
      " [0. 0. 4. 0.]\n",
      " [0. 0. 0. 5.]]\n"
     ]
    }
   ],
   "source": [
    "\"\"\"Multiplication of arrays\"\"\"\n",
    "a1=np.ones((4,4))\n",
    "print (repr(a1))\n",
    "a2=np.diag([1,2,4,5])\n",
    "print (repr(a2))\n",
    "print (a1.dot(a2))\n",
    "print (a1*a2)"
   ]
  },
  {
   "cell_type": "code",
   "execution_count": 198,
   "metadata": {},
   "outputs": [
    {
     "name": "stdout",
     "output_type": "stream",
     "text": [
      "array([ 2,  4,  6,  8, 10, 12, 14, 16, 18])\n",
      "array([1, 2, 3, 4, 5, 6, 7, 8, 9])\n"
     ]
    },
    {
     "data": {
      "text/plain": [
       "array([False, False, False, False, False, False, False, False, False])"
      ]
     },
     "execution_count": 198,
     "metadata": {},
     "output_type": "execute_result"
    }
   ],
   "source": [
    "\"\"\"Bitwise operation\"\"\"\n",
    "a=np.arange(2,20,2)\n",
    "print (repr(a))\n",
    "b=np.arange(1,10,1)\n",
    "print (repr(b))\n",
    "a==b"
   ]
  },
  {
   "cell_type": "code",
   "execution_count": 200,
   "metadata": {},
   "outputs": [
    {
     "name": "stdout",
     "output_type": "stream",
     "text": [
      "False\n"
     ]
    }
   ],
   "source": [
    "print (np.array_equal(a,b)) #compares two array element wise"
   ]
  },
  {
   "cell_type": "code",
   "execution_count": 207,
   "metadata": {},
   "outputs": [
    {
     "name": "stdout",
     "output_type": "stream",
     "text": [
      "[False  True False False  True]\n",
      "[ True  True False  True  True]\n"
     ]
    }
   ],
   "source": [
    "\"\"\"Comparing arrays logically- Logical operations\"\"\"\n",
    "a1=np.array([1,1,0,0,1] ,dtype=bool)\n",
    "a2=np.array([0,1,0,1,1] ,dtype=bool)\n",
    "print (np.logical_and(a1,a2))\n",
    "print (np.logical_or(a1,a2))\n",
    "\n"
   ]
  },
  {
   "cell_type": "code",
   "execution_count": 212,
   "metadata": {},
   "outputs": [
    {
     "name": "stdout",
     "output_type": "stream",
     "text": [
      "[ 0.          0.84147098  0.90929743  0.14112001 -0.7568025 ]\n",
      "[ 1.          0.15425145 -0.95241298 -0.44807362 -0.59846007]\n",
      "[      -inf 0.         0.69314718 1.09861229 1.38629436]\n",
      "[ 1.          2.71828183  7.3890561  20.08553692 54.59815003]\n"
     ]
    },
    {
     "name": "stderr",
     "output_type": "stream",
     "text": [
      "C:\\Users\\Ankesh\\Anaconda3\\lib\\site-packages\\ipykernel_launcher.py:7: RuntimeWarning: divide by zero encountered in log\n",
      "  import sys\n"
     ]
    }
   ],
   "source": [
    "\"\"\"Transcendental functions\"\"\"\n",
    "\n",
    "a=np.arange(5)\n",
    "print (np.sin(a))\n",
    "b=np.array([0,30,60,90,180])\n",
    "print (np.cos(b))\n",
    "print (np.log(a))\n",
    "print (np.exp(a))\n"
   ]
  },
  {
   "cell_type": "code",
   "execution_count": 216,
   "metadata": {},
   "outputs": [
    {
     "ename": "ValueError",
     "evalue": "operands could not be broadcast together with shapes (4,) (9,) ",
     "output_type": "error",
     "traceback": [
      "\u001b[1;31m---------------------------------------------------------------------------\u001b[0m",
      "\u001b[1;31mValueError\u001b[0m                                Traceback (most recent call last)",
      "\u001b[1;32m<ipython-input-216-8ddb4109a757>\u001b[0m in \u001b[0;36m<module>\u001b[1;34m\u001b[0m\n\u001b[0;32m      1\u001b[0m \u001b[1;34m\"\"\"When we try to perform operation on two different shapes of arrays\"\"\"\u001b[0m\u001b[1;33m\u001b[0m\u001b[1;33m\u001b[0m\u001b[0m\n\u001b[0;32m      2\u001b[0m \u001b[0ma\u001b[0m\u001b[1;33m=\u001b[0m\u001b[0mnp\u001b[0m\u001b[1;33m.\u001b[0m\u001b[0marray\u001b[0m\u001b[1;33m(\u001b[0m\u001b[1;33m[\u001b[0m\u001b[1;36m1\u001b[0m\u001b[1;33m,\u001b[0m\u001b[1;36m3\u001b[0m\u001b[1;33m,\u001b[0m\u001b[1;36m4\u001b[0m\u001b[1;33m,\u001b[0m\u001b[1;36m5\u001b[0m\u001b[1;33m]\u001b[0m\u001b[1;33m)\u001b[0m\u001b[1;33m\u001b[0m\u001b[1;33m\u001b[0m\u001b[0m\n\u001b[1;32m----> 3\u001b[1;33m \u001b[0mb\u001b[0m\u001b[1;33m=\u001b[0m\u001b[0ma\u001b[0m\u001b[1;33m+\u001b[0m\u001b[0mnp\u001b[0m\u001b[1;33m.\u001b[0m\u001b[0marange\u001b[0m\u001b[1;33m(\u001b[0m\u001b[1;36m1\u001b[0m\u001b[1;33m,\u001b[0m\u001b[1;36m10\u001b[0m\u001b[1;33m,\u001b[0m\u001b[1;36m1\u001b[0m\u001b[1;33m)\u001b[0m\u001b[1;33m\u001b[0m\u001b[1;33m\u001b[0m\u001b[0m\n\u001b[0m\u001b[0;32m      4\u001b[0m \u001b[0mprint\u001b[0m \u001b[1;33m(\u001b[0m\u001b[0mb\u001b[0m\u001b[1;33m)\u001b[0m\u001b[1;33m\u001b[0m\u001b[1;33m\u001b[0m\u001b[0m\n",
      "\u001b[1;31mValueError\u001b[0m: operands could not be broadcast together with shapes (4,) (9,) "
     ]
    }
   ],
   "source": [
    "\"\"\"When we try to perform operation on two different shapes of arrays\"\"\"\n",
    "a=np.array([1,3,4,5])\n",
    "b=a+np.arange(1,10,1)\n",
    "print (b)"
   ]
  },
  {
   "cell_type": "code",
   "execution_count": 227,
   "metadata": {},
   "outputs": [
    {
     "name": "stdout",
     "output_type": "stream",
     "text": [
      "23\n",
      "array([[1, 2, 4],\n",
      "       [2, 3, 4]])\n",
      "[3 5 8]\n",
      "[7 9]\n"
     ]
    }
   ],
   "source": [
    "\"\"\"Computing sums\"\"\"\n",
    "\n",
    "a=np.array([1,2,4,4,5,7])\n",
    "print (np.sum(a))\n",
    "a1=np.array([[1,2,4],[2,3,4]])\n",
    "print (repr(a1))\n",
    "print (a1.sum(axis=0)) #When we say axis=0, operation is performed column wise\n",
    "print (a1.sum(axis=1)) #When we say axis=1, operation is performed row wise"
   ]
  },
  {
   "cell_type": "code",
   "execution_count": 231,
   "metadata": {},
   "outputs": [
    {
     "name": "stdout",
     "output_type": "stream",
     "text": [
      "1\n",
      "7\n",
      "minimum is at index 0\n",
      "maximum is at index 2\n"
     ]
    }
   ],
   "source": [
    "\"\"\"aggregate functions\"\"\"\n",
    "x=np.array([1,2,7,4,4,5])\n",
    "print (x.min())\n",
    "print (x.max())\n",
    "print ('minimum is at index {}'.format(x.argmin()))\n",
    "print ('maximum is at index {}'.format(x.argmax()))"
   ]
  },
  {
   "cell_type": "code",
   "execution_count": 242,
   "metadata": {},
   "outputs": [
    {
     "name": "stdout",
     "output_type": "stream",
     "text": [
      "array([[1., 1., 1., 1.],\n",
      "       [1., 1., 1., 1.],\n",
      "       [1., 1., 1., 1.]])\n",
      "True\n",
      "False\n",
      "True\n"
     ]
    }
   ],
   "source": [
    "\"\"\"Boolean\"\"\"\n",
    "np.all([True, False,True]) #if all the elements are true it returns true\n",
    "np.any([False, True, False]) #if any of elements is true it return true\n",
    "\n",
    "x=np.ones((3,4))\n",
    "print (repr(x))\n",
    "print (np.any(x!=0))\n",
    "print (np.any(x!=1))\n",
    "print (np.all(x==1))"
   ]
  },
  {
   "cell_type": "code",
   "execution_count": 253,
   "metadata": {},
   "outputs": [
    {
     "name": "stdout",
     "output_type": "stream",
     "text": [
      "[False  True  True  True]\n",
      "array([1., 1., 1., 1.])\n",
      "True\n"
     ]
    }
   ],
   "source": [
    "a=np.array([1,10,4,5])\n",
    "b=np.array([2,3,4,5])\n",
    "c=np.ones(4)\n",
    "print (a>b.any())\n",
    "print (repr(c))\n",
    "print (((a & b)>c).any())"
   ]
  },
  {
   "cell_type": "code",
   "execution_count": 260,
   "metadata": {},
   "outputs": [
    {
     "name": "stdout",
     "output_type": "stream",
     "text": [
      "array([1, 3, 5, 7, 9])\n",
      "5.0\n",
      "5.0\n",
      "3.0\n",
      "2.8284271247461903\n"
     ]
    }
   ],
   "source": [
    "\"\"\"Statistics\"\"\"\n",
    "x=np.arange(1,10,2)\n",
    "print (repr(x))\n",
    "print(x.mean())\n",
    "print (np.median(x))\n",
    "y=np.array([[1,2,4],[5,6,2]])\n",
    "print (np.median(y))\n",
    "print (x.std()) #standard deviation\n",
    "\n",
    "\n"
   ]
  },
  {
   "cell_type": "code",
   "execution_count": 356,
   "metadata": {},
   "outputs": [
    {
     "name": "stdout",
     "output_type": "stream",
     "text": [
      "[[ 1901.  3000.  4000. 45049.]\n",
      " [ 1903.  4000.  5200. 34552.]\n",
      " [ 1905.  3422.  5643. 12345.]\n",
      " [ 1906.  3413.  2345. 19999.]]\n",
      "<class 'numpy.ndarray'>\n"
     ]
    }
   ],
   "source": [
    "\"\"\"Loading dataset in numpy\"\"\"\n",
    "data=np.loadtxt('population.txt')\n",
    "print (data)\n",
    "print (type(data))"
   ]
  },
  {
   "cell_type": "code",
   "execution_count": 274,
   "metadata": {},
   "outputs": [
    {
     "name": "stdout",
     "output_type": "stream",
     "text": [
      "[1901. 1903. 1905. 1906.]\n"
     ]
    }
   ],
   "source": [
    "Year, Hares, Lynx, Carrot=data.T\n",
    "print (Year)"
   ]
  },
  {
   "cell_type": "code",
   "execution_count": 357,
   "metadata": {},
   "outputs": [
    {
     "data": {
      "text/plain": [
       "array([3000., 4000., 3422., 3413.])"
      ]
     },
     "execution_count": 357,
     "metadata": {},
     "output_type": "execute_result"
    }
   ],
   "source": [
    "population=data[:,1] #slicing involves comma\n",
    "population"
   ]
  },
  {
   "cell_type": "code",
   "execution_count": 280,
   "metadata": {},
   "outputs": [
    {
     "data": {
      "text/plain": [
       "array([[ 3000.,  4000., 45049.],\n",
       "       [ 4000.,  5200., 34552.],\n",
       "       [ 3422.,  5643., 12345.],\n",
       "       [ 3413.,  2345., 19999.]])"
      ]
     },
     "execution_count": 280,
     "metadata": {},
     "output_type": "execute_result"
    }
   ],
   "source": [
    "population=data[:,1:]\n",
    "population"
   ]
  },
  {
   "cell_type": "code",
   "execution_count": 281,
   "metadata": {},
   "outputs": [
    {
     "data": {
      "text/plain": [
       "11914.0"
      ]
     },
     "execution_count": 281,
     "metadata": {},
     "output_type": "execute_result"
    }
   ],
   "source": [
    "population.mean()"
   ]
  },
  {
   "cell_type": "code",
   "execution_count": 284,
   "metadata": {},
   "outputs": [
    {
     "data": {
      "text/plain": [
       "array([ 3458.75,  4297.  , 27986.25])"
      ]
     },
     "execution_count": 284,
     "metadata": {},
     "output_type": "execute_result"
    }
   ],
   "source": [
    "population.mean(axis=0) #taking the mean column wise\n"
   ]
  },
  {
   "cell_type": "code",
   "execution_count": 287,
   "metadata": {},
   "outputs": [
    {
     "data": {
      "text/plain": [
       "array([2, 2, 2, 2], dtype=int64)"
      ]
     },
     "execution_count": 287,
     "metadata": {},
     "output_type": "execute_result"
    }
   ],
   "source": [
    "\"\"\"to check which year it has the maximum population\"\"\"\n",
    "np.argmax(population,axis=1) #axis=1 applies row wise and returns the index of the column this has max values, here carrot in \n",
    "                                #in all the rows"
   ]
  },
  {
   "cell_type": "code",
   "execution_count": 288,
   "metadata": {},
   "outputs": [
    {
     "data": {
      "text/plain": [
       "array([0, 3, 2], dtype=int64)"
      ]
     },
     "execution_count": 288,
     "metadata": {},
     "output_type": "execute_result"
    }
   ],
   "source": [
    "np.argmin(population,axis=0) "
   ]
  },
  {
   "cell_type": "code",
   "execution_count": 292,
   "metadata": {},
   "outputs": [
    {
     "data": {
      "text/plain": [
       "array([[20, 30, 40, 50, 60, 70, 80, 90, 20, 30, 40, 50, 60, 70, 80, 90],\n",
       "       [20, 30, 40, 50, 60, 70, 80, 90, 20, 30, 40, 50, 60, 70, 80, 90],\n",
       "       [20, 30, 40, 50, 60, 70, 80, 90, 20, 30, 40, 50, 60, 70, 80, 90]])"
      ]
     },
     "execution_count": 292,
     "metadata": {},
     "output_type": "execute_result"
    }
   ],
   "source": [
    "\"\"\"Concept of broadcasting:\n",
    "It is the process of creating a replica to perform certain operations in a matrix\"\"\"\n",
    "a1=np.tile(np.arange(20,100,10),(3,2)) #2nd argumnet 3,2-adds 2rows and 1 column extra as replica\n",
    "a1\n",
    "\n"
   ]
  },
  {
   "cell_type": "code",
   "execution_count": 299,
   "metadata": {},
   "outputs": [
    {
     "name": "stdout",
     "output_type": "stream",
     "text": [
      "[[1 2 3 4]\n",
      " [1 2 3 4]\n",
      " [1 2 3 4]]\n",
      "__________________________\n",
      "[[1 1 1]\n",
      " [2 2 2]\n",
      " [3 3 3]\n",
      " [4 4 4]]\n"
     ]
    }
   ],
   "source": [
    "a2=np.tile(np.arange(1,5,1),(3,1)) #replicate 3 times in the row and just one time in the column\n",
    "print (a2)\n",
    "print ('__________________________')\n",
    "a3=a2.T\n",
    "print (a3) "
   ]
  },
  {
   "cell_type": "code",
   "execution_count": 300,
   "metadata": {},
   "outputs": [
    {
     "data": {
      "text/plain": [
       "array([10, 11, 12])"
      ]
     },
     "execution_count": 300,
     "metadata": {},
     "output_type": "execute_result"
    }
   ],
   "source": [
    "\"\"\"creating another matrix to perform addition operation\"\"\"\n",
    "b3=np.array([10,11,12])\n",
    "b3"
   ]
  },
  {
   "cell_type": "code",
   "execution_count": 301,
   "metadata": {},
   "outputs": [
    {
     "name": "stdout",
     "output_type": "stream",
     "text": [
      "[[11 12 13]\n",
      " [12 13 14]\n",
      " [13 14 15]\n",
      " [14 15 16]]\n"
     ]
    }
   ],
   "source": [
    "\"\"\"Performing the operation now\"\"\"\n",
    "print (a3+b3)"
   ]
  },
  {
   "cell_type": "code",
   "execution_count": 309,
   "metadata": {},
   "outputs": [
    {
     "name": "stdout",
     "output_type": "stream",
     "text": [
      "array([1, 4, 5, 6, 7])\n",
      "(5,)\n",
      "array([[1],\n",
      "       [4],\n",
      "       [5],\n",
      "       [6],\n",
      "       [7]])\n",
      "(5, 1)\n",
      "_________________________--\n",
      "array([[[1]],\n",
      "\n",
      "       [[4]],\n",
      "\n",
      "       [[5]],\n",
      "\n",
      "       [[6]],\n",
      "\n",
      "       [[7]]])\n",
      "(5, 1, 1)\n"
     ]
    }
   ],
   "source": [
    "\"\"\"np.newaxis - attribute that changes the shape of an array\"\"\"\n",
    "x1=np.array([1,4,5,6,7])\n",
    "print (repr(x1))\n",
    "print (x1.shape) #1D array\n",
    "x1=x1[:,np.newaxis] #include all the rows and create a 2D array\n",
    "print (repr(x1)) #2D array\n",
    "print (x1.shape)\n",
    "print ('_________________________--')\n",
    "x1=x1[:,np.newaxis] #include all the rows and create a 3D array now\n",
    "print (repr(x1)) #3D array\n",
    "print (x1.shape) "
   ]
  },
  {
   "cell_type": "code",
   "execution_count": 315,
   "metadata": {},
   "outputs": [
    {
     "name": "stdout",
     "output_type": "stream",
     "text": [
      "[[1 2 3]\n",
      " [1 4 9]]\n",
      "(2, 3)\n",
      "______________\n",
      "[1 2 3 1 4 9]\n",
      "(6,)\n",
      "______________\n"
     ]
    }
   ],
   "source": [
    "\"\"\"Array shape manipulation- Process of Flattening\"\"\"\n",
    "#ravel()- property of an array which reduces its shape- from 2d to 1d\n",
    "x=np.array([[1,2,3],[1,4,9]])\n",
    "print(x)\n",
    "print (x.shape)\n",
    "print ('______________')\n",
    "x=x.ravel()\n",
    "print(x)\n",
    "print (x.shape)\n",
    "print ('______________')\n"
   ]
  },
  {
   "cell_type": "code",
   "execution_count": 321,
   "metadata": {},
   "outputs": [
    {
     "name": "stdout",
     "output_type": "stream",
     "text": [
      "array([[ 1,  3,  5,  6],\n",
      "       [ 5,  3, 56,  7]])\n",
      "[ 1  3  5  6  5  3 56  7]\n",
      "array([[ 1,  3,  5,  6],\n",
      "       [ 5,  3, 56,  7]])\n"
     ]
    }
   ],
   "source": [
    "\"\"\"Inverse operation to flatenning\"\"\"\n",
    "x=np.array([[1,3,5,6],[5,3,56,7]])\n",
    "print (repr(x))\n",
    "y=x.ravel()\n",
    "print (y)\n",
    "\"\"\"reshape()\"\"\"\n",
    "print ('after ravel it is possible to convert back to orinial shape using reshape()')\n",
    "z=y.reshape(2,4)\n",
    "print (repr(z))"
   ]
  },
  {
   "cell_type": "code",
   "execution_count": 333,
   "metadata": {},
   "outputs": [
    {
     "name": "stdout",
     "output_type": "stream",
     "text": [
      "array([ 0,  1,  2,  3,  4,  5,  6,  7,  8,  9, 10, 11, 12, 13, 14, 15, 16,\n",
      "       17, 18, 19, 20, 21, 22, 23])\n",
      "___________________________________________\n",
      "array([[[ 0,  1],\n",
      "        [ 2,  3],\n",
      "        [ 4,  5]],\n",
      "\n",
      "       [[ 6,  7],\n",
      "        [ 8,  9],\n",
      "        [10, 11]],\n",
      "\n",
      "       [[12, 13],\n",
      "        [14, 15],\n",
      "        [16, 17]],\n",
      "\n",
      "       [[18, 19],\n",
      "        [20, 21],\n",
      "        [22, 23]]])\n",
      "Shape of array x is (4, 3, 2)\n",
      "___________________________________________\n",
      "[[0 1]\n",
      " [2 3]\n",
      " [4 5]]\n",
      "[[12 13]\n",
      " [14 15]\n",
      " [16 17]]\n",
      "___________________________________________\n",
      "3\n"
     ]
    }
   ],
   "source": [
    "x=np.arange(4*3*2) #creates an 1d array 0f elements from 0 to 23-\n",
    "print (repr(x))\n",
    "x=x.reshape(4,3,2) #giving x array a shape of matrix 3,2 and diving into 4 arrays\n",
    "print ('___________________________________________')\n",
    "print (repr(x))\n",
    "print ('Shape of array x is {}'.format(x.shape))\n",
    "print ('___________________________________________')\n",
    "print (x[0])\n",
    "print (x[2])\n",
    "print ('___________________________________________')\n",
    "print (x[0][1][1]) #first matrix, 1st row, 1st column\n"
   ]
  },
  {
   "cell_type": "code",
   "execution_count": 343,
   "metadata": {},
   "outputs": [
    {
     "name": "stdout",
     "output_type": "stream",
     "text": [
      "array([[10,  7,  1, 66],\n",
      "       [54, 13, 91, 44]])\n",
      "_______\n",
      "sorting by row\n",
      "[[ 1  7 10 66]\n",
      " [13 44 54 91]]\n",
      "________\n",
      "sorting by column\n"
     ]
    },
    {
     "data": {
      "text/plain": [
       "array([[10,  7,  1, 44],\n",
       "       [54, 13, 91, 66]])"
      ]
     },
     "execution_count": 343,
     "metadata": {},
     "output_type": "execute_result"
    }
   ],
   "source": [
    "\"\"\"Sorting of an array: \"\"\"\n",
    "ar=np.array([[10,7,1,66],[54,13,91,44]])\n",
    "print (repr(ar))\n",
    "print ('_______')\n",
    "print ('sorting by row')\n",
    "print (np.sort(ar,axis=1))\n",
    "print ('________')\n",
    "print ('sorting by column')\n",
    "b=np.sort(ar,axis=0)\n",
    "b"
   ]
  },
  {
   "cell_type": "code",
   "execution_count": 352,
   "metadata": {},
   "outputs": [
    {
     "name": "stdout",
     "output_type": "stream",
     "text": [
      "array([1, 4, 5, 2])\n",
      "array([0, 3, 1, 2], dtype=int64)\n",
      "                \n",
      "[0 3 1 2]\n",
      "array([1, 2, 4, 5])\n"
     ]
    }
   ],
   "source": [
    "\"\"\"sorting with fancy indexing\"\"\"\n",
    "\"\"\"instead of elements getting sort using np.sort or array.sort, argsort is used to sort the indices of elements instead\"\"\"\n",
    "a=np.array([1,4,5,2])\n",
    "print (repr(a))\n",
    "b=np.argsort(a)\n",
    "print (repr(b))\n",
    "print ('                ')\n",
    "j=np.argsort(a)\n",
    "print (j)\n",
    "print (repr(a[j]))"
   ]
  }
 ],
 "metadata": {
  "kernelspec": {
   "display_name": "Python 3",
   "language": "python",
   "name": "python3"
  },
  "language_info": {
   "codemirror_mode": {
    "name": "ipython",
    "version": 3
   },
   "file_extension": ".py",
   "mimetype": "text/x-python",
   "name": "python",
   "nbconvert_exporter": "python",
   "pygments_lexer": "ipython3",
   "version": "3.7.3"
  }
 },
 "nbformat": 4,
 "nbformat_minor": 2
}
