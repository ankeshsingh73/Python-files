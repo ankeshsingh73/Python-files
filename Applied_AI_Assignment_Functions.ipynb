{
 "cells": [
  {
   "cell_type": "code",
   "execution_count": null,
   "metadata": {},
   "outputs": [],
   "source": [
    "\"\"\"1 Write a function that inputs a number and prints the multiplication table of that number\"\"\"\n",
    "\n",
    "num=int (input(\"Enter a number: \"))\n",
    "table=range(1,11)\n",
    "for i in table:\n",
    "    print('{} * {} = {}'.format(num,i,num*i))"
   ]
  },
  {
   "cell_type": "code",
   "execution_count": null,
   "metadata": {},
   "outputs": [],
   "source": [
    "\"\"\"2. Write a program to print twin primes less than 1000. If two consecutive odd numbers are\n",
    "both prime then they are known as twin primes\"\"\"\n",
    "start=3\n",
    "stop=1000\n",
    "primes=[]\n",
    "prime=True\n",
    "for i in range (start,stop):\n",
    "    for j in range (2,i):\n",
    "        if (i%j==0):\n",
    "            prime=False\n",
    "            break\n",
    "        else:\n",
    "            \n",
    "            prime =True\n",
    "    if (prime):\n",
    "        primes.append(i)\n",
    "twinprime=[]    \n",
    "for i in range(0,len(primes)):\n",
    "    for j in range (1,len(primes)):\n",
    "        if (abs(primes[i]-primes[j])==2):\n",
    "            print ('({},{}),'.format(primes[i],primes[j]),end=' ')\n"
   ]
  },
  {
   "cell_type": "code",
   "execution_count": null,
   "metadata": {},
   "outputs": [],
   "source": [
    "\"\"\"3. Write a program to find out the prime factors of a number. Example: prime factors of 56 -\n",
    "2, 2, 2, 7\"\"\"\n",
    "factors=[]\n",
    "num=int(input('Enter a number: '))\n",
    "for i in range (1,num):\n",
    "    if (num%i==0):\n",
    "        factors.append(i)\n",
    "isprime=[]\n",
    "for ele in factors:\n",
    "    isPrime=True\n",
    "    for j in range (2,ele):\n",
    "        if (ele%j==0):\n",
    "            isPrime=False\n",
    "            break\n",
    "        else:\n",
    "            isPrime=True\n",
    "    if isPrime:\n",
    "        isprime.append(ele)\n",
    "print (isprime)           \n",
    "    "
   ]
  },
  {
   "cell_type": "code",
   "execution_count": null,
   "metadata": {},
   "outputs": [],
   "source": [
    "\"\"\"4. Write a program to implement these formulae of permutations and combinations.\n",
    "Number of permutations of n objects taken r at a time: p(n, r) = n! / (n-r)!. Number of\n",
    "combinations of n objects taken r at a time is: c(n, r) = n! / (r!*(n-r)!) = p(n,r) / r!\"\"\"\n",
    "\n",
    "\n",
    "n=int (input('Number of permutations of n objects: '))\n",
    "r=int (input('Number of permutations of n objects taken r at a time: '))\n",
    "\n",
    "def Permutation(n,r):\n",
    "    return (factorial(n)/factorial(n-r))\n",
    "def Combination(n,r):\n",
    "    return (Permutation(n,r)/factorial(r))\n",
    "\n",
    "\n",
    "def factorial(num):\n",
    "    if num==1: \n",
    "        return 1\n",
    "    else:\n",
    "        return num*factorial(num-1)\n",
    "    \n",
    "\n",
    "    \n",
    "print ('Permutation of {} and {} is ' .format(n,r),end ='')\n",
    "print ( int (Permutation (n,r)))\n",
    "print ('Combination of {} and {} is ' .format(n,r),end ='')\n",
    "print (int (Combination(n,r)))"
   ]
  },
  {
   "cell_type": "code",
   "execution_count": null,
   "metadata": {},
   "outputs": [],
   "source": [
    "\"\"\"5. Write a function that converts a decimal number to binary number\"\"\"\n",
    "\n",
    "num=int(input('Enter a number: '))\n",
    "def dectoBinary(n):\n",
    "    if (n>1):\n",
    "        dectoBinary(n//2)\n",
    "    print (n%2,end=' ')\n",
    "dectoBinary(num)"
   ]
  },
  {
   "cell_type": "code",
   "execution_count": null,
   "metadata": {},
   "outputs": [],
   "source": [
    "\"\"\"6. Write a function cubesum() that accepts an integer and returns the sum of the cubes of\n",
    "individual digits of that number. Use this function to make functions PrintArmstrong() and\n",
    "isArmstrong() to print Armstrong numbers and to find whether is an Armstrong number.\"\"\"\n",
    "\n",
    "\n",
    "num=int (input('Enter a number: '))\n",
    "l1=[int(i) for i in str(num)] # converting int type into list as int is not iterable object\n",
    "\n",
    "# print (l1)\n",
    "def cubesum(l1):\n",
    "    sum=0\n",
    "    for ele in l1:\n",
    "        sum+=ele**3\n",
    "    return sum\n",
    "armstrongPrg=cubesum(l1)\n",
    "if (armstrongPrg==num):\n",
    "    print (\"{} is an armstrong number\".format(num))\n",
    "else :\n",
    "    print (\"{} is not an armstrong number\".format(num))\n",
    "\n"
   ]
  },
  {
   "cell_type": "code",
   "execution_count": null,
   "metadata": {},
   "outputs": [],
   "source": [
    "\"\"\"7. Write a function prodDigits() that inputs a number and returns the product of digits of that\n",
    "number.\"\"\"\n",
    "\n",
    "def prodDigits():\n",
    "    num=int(input(\"Please, Enter a number: \"))\n",
    "    l1=[int(x) for x in str(num)]\n",
    "    prod=1\n",
    "    for ele in l1:\n",
    "        prod*=ele\n",
    "    print ('The product of bigits of {} is {} '.format(num,prod))\n",
    "prodDigits()\n"
   ]
  },
  {
   "cell_type": "code",
   "execution_count": null,
   "metadata": {},
   "outputs": [],
   "source": [
    "\"\"\"8. If all digits of a number n are multiplied by each other repeating with the product, the one\n",
    "digit number obtained at last is called the multiplicative digital root of n. The number of\n",
    "times digits need to be multiplied to reach one digit is called the multiplicative\n",
    "persistance of n.\n",
    "Example: 86 -> 48 -> 32 -> 6 (MDR 6, MPersistence 3)\n",
    "341 -> 12->2 (MDR 2, MPersistence 2)\n",
    "Using the function prodDigits() of previous exercise write functions MDR() and\n",
    "MPersistence() that input a number and return its multiplicative digital root and\n",
    "multiplicative persistence respectively\"\"\"\n",
    "\n",
    "num=int(input(\"Please, Enter a number: \"))\n",
    "\n",
    "def prodDigits(num):   \n",
    "    l1=[int(x) for x in str(num)]\n",
    "    prod=1\n",
    "    for ele in l1:\n",
    "        prod*=ele\n",
    "    MDR(prod)   \n",
    "    \n",
    "def MDR(num):\n",
    "    \n",
    "    if num < 10:\n",
    "        print ('MDR is: {} and Mpersistence is {}: '.format(num,count))       \n",
    "    else:\n",
    "        \n",
    "        count =count+1\n",
    "        prodDigits(num) \n",
    "\n",
    "count=0\n",
    "prodDigits(num)"
   ]
  },
  {
   "cell_type": "code",
   "execution_count": null,
   "metadata": {},
   "outputs": [],
   "source": [
    "\"\"\"9. Write a function sumPdivisors() that finds the sum of proper divisors of a number. Proper\n",
    "divisors of a number are those numbers by which the number is divisible, except the\n",
    "number itself. For example proper divisors of 36 are 1, 2, 3, 4, 6, 9, 18\"\"\"\n",
    "\n",
    "num=int (input('Please, enter a number'))\n",
    "l1=[]\n",
    "def sumPdivisors(num):\n",
    "    for i in range (1,num):\n",
    "        if (num%i==0):\n",
    "            l1.append(i)\n",
    "    print (l1)\n",
    "\n",
    "sumPdivisors(num)\n",
    "sum=0\n",
    "for ele in l1:\n",
    "    sum+=ele\n",
    "print (\"sum of proper divisors of {} is {}\".format(num,sum))"
   ]
  },
  {
   "cell_type": "code",
   "execution_count": null,
   "metadata": {},
   "outputs": [],
   "source": [
    "\"\"\"10. A number is called perfect if the sum of proper divisors of that number is equal to the\n",
    "number. For example 28 is perfect number, since 1+2+4+7+14=28. Write a program to\n",
    "print all the perfect numbers in a given range\"\"\"\n",
    "\n",
    "num1=int (input('Start: '))\n",
    "num2=int (input('Stop:  '))\n",
    "listOfPerfectNumber=[]\n",
    "sum=0\n",
    "for i in range(num1,num2):\n",
    "    for j in range(1,i):\n",
    "        if (i%j==0):\n",
    "            sum+=j\n",
    "    if (sum==i):\n",
    "        listOfPerfectNumber.append(i)\n",
    "        sum=0\n",
    "    else:\n",
    "        sum=0\n",
    "for ele in listOfPerfectNumber:\n",
    "    print (ele)"
   ]
  },
  {
   "cell_type": "code",
   "execution_count": 1,
   "metadata": {},
   "outputs": [
    {
     "name": "stdout",
     "output_type": "stream",
     "text": [
      "Enter the first number: 200\n",
      "Enter the second number: 300\n"
     ]
    }
   ],
   "source": [
    "\"\"\"11. Two different numbers are called amicable numbers if the sum of the proper divisors of\n",
    "each is equal to the other number. For example 220 and 284 are amicable numbers.\n",
    "Sum of proper divisors of 220 = 1+2+4+5+10+11+20+22+44+55+110 = 284\n",
    "Sum of proper divisors of 284 = 1+2+4+71+142 = 220\n",
    "Write a function to print pairs of amicable numbers in a range\"\"\"\n",
    "\n",
    "import pdb\n",
    "num1=int (input ('Enter the first number: '))\n",
    "num2=int (input ('Enter the second number: '))\n",
    "l1=[]\n",
    "l2=[]\n",
    "for i in range (num1,num2):\n",
    "    l1.append(i)\n",
    "# print (l1)\n",
    "\n",
    "for ele in l1:\n",
    "    sum=0\n",
    "    for i in range (1,ele):\n",
    "        if (ele%i==0):\n",
    "            sum+=i\n",
    "    if sum in l1:\n",
    "        l2.append(ele)\n",
    "def amicableNumbers (num):\n",
    "    for ele in num:\n",
    "        sum=0\n",
    "        for i in range (1,ele):\n",
    "            if (ele%i==0):\n",
    "                sum+=i\n",
    "        if sum in num:\n",
    "#             print (sum)\n",
    "            found= amicableFound(sum)\n",
    "            check (sum,found)                      \n",
    "                \n",
    "def amicableFound(num):\n",
    "    for ele in l2:\n",
    "        if (ele==num):\n",
    "            return ele\n",
    "        \n",
    "def check(sum,ele):\n",
    "    sum1=0\n",
    "    for i in range (1,ele):\n",
    "        if (ele%i==0):\n",
    "            sum1+=i\n",
    "    if (sum1==sum):\n",
    "        print (\"{} and {} are amicable\".format(sum,ele))\n",
    "\n",
    "\n",
    "amicableNumbers(l2)\n"
   ]
  },
  {
   "cell_type": "code",
   "execution_count": null,
   "metadata": {},
   "outputs": [],
   "source": [
    "\"\"\"12. Write a program which can filter odd numbers in a list by using filter function\"\"\"\n",
    "l1=range(2,50)\n",
    "\n",
    "odd=list(filter( lambda x: x%2 !=0,l1))\n",
    "print (odd)\n"
   ]
  },
  {
   "cell_type": "code",
   "execution_count": 15,
   "metadata": {},
   "outputs": [
    {
     "name": "stdout",
     "output_type": "stream",
     "text": [
      "[1, 2, None, None, None, None, None, None, None]\n"
     ]
    }
   ],
   "source": [
    "\"\"\"13. Write a program which can map() to make a list whose elements are cube of elements in\n",
    "a given list\"\"\"\n",
    "\n",
    "\n",
    "l1=list (range(1,10))\n",
    "# print (l1)\n",
    "def cube(num):\n",
    "    if (num **3 in l1):\n",
    "        return num\n",
    "        \n",
    "\n",
    "elements=list (map(cube,l1))\n",
    "print (elements)\n",
    "\n",
    "\n",
    "\n",
    "\n"
   ]
  },
  {
   "cell_type": "code",
   "execution_count": 16,
   "metadata": {},
   "outputs": [
    {
     "name": "stdout",
     "output_type": "stream",
     "text": [
      "[1, 2, None, None, None, None, None, None, None]\n",
      "[1, 2]\n"
     ]
    }
   ],
   "source": [
    "\"\"\"14. Write a program which can map() and filter() to make a list whose elements are cube of\n",
    "even number in a given list\"\"\"\n",
    "\n",
    "\n",
    "l1=list (range(1,10))\n",
    "# print (l1)\n",
    "def cube(num):\n",
    "    if (num **3 in l1):\n",
    "        return num\n",
    "l2=list (map(cube,l1))\n",
    "print (l2)\n",
    "l3=list (filter(cube,l1))\n",
    "print (l3)\n",
    "\n",
    "\n",
    "\n"
   ]
  }
 ],
 "metadata": {
  "kernelspec": {
   "display_name": "Python 3",
   "language": "python",
   "name": "python3"
  },
  "language_info": {
   "codemirror_mode": {
    "name": "ipython",
    "version": 3
   },
   "file_extension": ".py",
   "mimetype": "text/x-python",
   "name": "python",
   "nbconvert_exporter": "python",
   "pygments_lexer": "ipython3",
   "version": "3.7.3"
  }
 },
 "nbformat": 4,
 "nbformat_minor": 2
}
