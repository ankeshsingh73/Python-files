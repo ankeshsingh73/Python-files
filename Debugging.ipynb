{
 "cells": [
  {
   "cell_type": "code",
   "execution_count": 5,
   "metadata": {},
   "outputs": [
    {
     "name": "stdout",
     "output_type": "stream",
     "text": [
      "i =1 j =0 \n",
      "i =2 j =0 \n",
      "i =2 j =1 \n",
      "i =3 j =0 \n",
      "i =3 j =1 \n",
      "i =3 j =2 \n",
      "i =4 j =0 \n",
      "i =4 j =1 \n",
      "i =4 j =2 \n",
      "i =4 j =3 \n"
     ]
    }
   ],
   "source": [
    "import pdb\n",
    "\n",
    "for i in range (1,5):\n",
    "    for j in range(i):\n",
    "        print ('i ={}'.format(i), end=' ')\n",
    "        print ('j ={}'.format(j), end=' ')\n",
    "        print ()"
   ]
  },
  {
   "cell_type": "code",
   "execution_count": null,
   "metadata": {},
   "outputs": [
    {
     "name": "stdout",
     "output_type": "stream",
     "text": [
      "> <ipython-input-1-0e27aa4945d0>(4)<module>()\n",
      "-> for j in range(i):\n",
      "(Pdb) h\n",
      "\n",
      "Documented commands (type help <topic>):\n",
      "========================================\n",
      "EOF    c          d        h         list      q        rv       undisplay\n",
      "a      cl         debug    help      ll        quit     s        unt      \n",
      "alias  clear      disable  ignore    longlist  r        source   until    \n",
      "args   commands   display  interact  n         restart  step     up       \n",
      "b      condition  down     j         next      return   tbreak   w        \n",
      "break  cont       enable   jump      p         retval   u        whatis   \n",
      "bt     continue   exit     l         pp        run      unalias  where    \n",
      "\n",
      "Miscellaneous help topics:\n",
      "==========================\n",
      "exec  pdb\n",
      "\n",
      "(Pdb) next\n",
      "> <ipython-input-1-0e27aa4945d0>(3)<module>()\n",
      "-> for i in range (1,5):\n",
      "(Pdb) next\n",
      "> <ipython-input-1-0e27aa4945d0>(4)<module>()\n",
      "-> for j in range(i):\n",
      "(Pdb) next\n",
      "> <ipython-input-1-0e27aa4945d0>(5)<module>()\n",
      "-> pdb.set_trace()\n",
      "(Pdb) next\n",
      "> <ipython-input-1-0e27aa4945d0>(4)<module>()\n",
      "-> for j in range(i):\n",
      "(Pdb) c\n",
      "> <ipython-input-1-0e27aa4945d0>(4)<module>()\n",
      "-> for j in range(i):\n",
      "(Pdb) c\n",
      "> <ipython-input-1-0e27aa4945d0>(4)<module>()\n",
      "-> for j in range(i):\n",
      "(Pdb) c\n",
      "> <ipython-input-1-0e27aa4945d0>(4)<module>()\n",
      "-> for j in range(i):\n",
      "(Pdb) next\n",
      "> <ipython-input-1-0e27aa4945d0>(5)<module>()\n",
      "-> pdb.set_trace()\n",
      "(Pdb) next\n",
      "> <ipython-input-1-0e27aa4945d0>(4)<module>()\n",
      "-> for j in range(i):\n",
      "(Pdb) p locals()\n",
      "{'__name__': '__main__', '__doc__': 'Automatically created module for IPython interactive environment', '__package__': None, '__loader__': None, '__spec__': None, '__builtin__': <module 'builtins' (built-in)>, '__builtins__': <module 'builtins' (built-in)>, '_ih': ['', 'import pdb\\n\\nfor i in range (1,5):\\n    for j in range(i):\\n        pdb.set_trace()'], '_oh': {}, '_dh': ['C:\\\\Users\\\\Ankesh'], 'In': ['', 'import pdb\\n\\nfor i in range (1,5):\\n    for j in range(i):\\n        pdb.set_trace()'], 'Out': {}, 'get_ipython': <bound method InteractiveShell.get_ipython of <ipykernel.zmqshell.ZMQInteractiveShell object at 0x000001EBFD0E8AC8>>, 'exit': <IPython.core.autocall.ZMQExitAutocall object at 0x000001EBFD1465C0>, 'quit': <IPython.core.autocall.ZMQExitAutocall object at 0x000001EBFD1465C0>, '_': '', '__': '', '___': '', '_i': '', '_ii': '', '_iii': '', '_i1': 'import pdb\\n\\nfor i in range (1,5):\\n    for j in range(i):\\n        pdb.set_trace()', 'pdb': <module 'pdb' from 'C:\\\\Users\\\\Ankesh\\\\Anaconda3\\\\lib\\\\pdb.py'>, 'i': 3, 'j': 2}\n",
      "(Pdb) p locals()\n",
      "{'__name__': '__main__', '__doc__': 'Automatically created module for IPython interactive environment', '__package__': None, '__loader__': None, '__spec__': None, '__builtin__': <module 'builtins' (built-in)>, '__builtins__': <module 'builtins' (built-in)>, '_ih': ['', 'import pdb\\n\\nfor i in range (1,5):\\n    for j in range(i):\\n        pdb.set_trace()'], '_oh': {}, '_dh': ['C:\\\\Users\\\\Ankesh'], 'In': ['', 'import pdb\\n\\nfor i in range (1,5):\\n    for j in range(i):\\n        pdb.set_trace()'], 'Out': {}, 'get_ipython': <bound method InteractiveShell.get_ipython of <ipykernel.zmqshell.ZMQInteractiveShell object at 0x000001EBFD0E8AC8>>, 'exit': <IPython.core.autocall.ZMQExitAutocall object at 0x000001EBFD1465C0>, 'quit': <IPython.core.autocall.ZMQExitAutocall object at 0x000001EBFD1465C0>, '_': '', '__': '', '___': '', '_i': '', '_ii': '', '_iii': '', '_i1': 'import pdb\\n\\nfor i in range (1,5):\\n    for j in range(i):\\n        pdb.set_trace()', 'pdb': <module 'pdb' from 'C:\\\\Users\\\\Ankesh\\\\Anaconda3\\\\lib\\\\pdb.py'>, 'i': 3, 'j': 2}\n",
      "(Pdb) next\n",
      "> <ipython-input-1-0e27aa4945d0>(3)<module>()\n",
      "-> for i in range (1,5):\n",
      "(Pdb) next\n",
      "> <ipython-input-1-0e27aa4945d0>(4)<module>()\n",
      "-> for j in range(i):\n",
      "(Pdb) next\n",
      "> <ipython-input-1-0e27aa4945d0>(5)<module>()\n",
      "-> pdb.set_trace()\n",
      "(Pdb) next\n",
      "> <ipython-input-1-0e27aa4945d0>(4)<module>()\n",
      "-> for j in range(i):\n",
      "(Pdb) p locals()\n",
      "{'__name__': '__main__', '__doc__': 'Automatically created module for IPython interactive environment', '__package__': None, '__loader__': None, '__spec__': None, '__builtin__': <module 'builtins' (built-in)>, '__builtins__': <module 'builtins' (built-in)>, '_ih': ['', 'import pdb\\n\\nfor i in range (1,5):\\n    for j in range(i):\\n        pdb.set_trace()'], '_oh': {}, '_dh': ['C:\\\\Users\\\\Ankesh'], 'In': ['', 'import pdb\\n\\nfor i in range (1,5):\\n    for j in range(i):\\n        pdb.set_trace()'], 'Out': {}, 'get_ipython': <bound method InteractiveShell.get_ipython of <ipykernel.zmqshell.ZMQInteractiveShell object at 0x000001EBFD0E8AC8>>, 'exit': <IPython.core.autocall.ZMQExitAutocall object at 0x000001EBFD1465C0>, 'quit': <IPython.core.autocall.ZMQExitAutocall object at 0x000001EBFD1465C0>, '_': '', '__': '', '___': '', '_i': '', '_ii': '', '_iii': '', '_i1': 'import pdb\\n\\nfor i in range (1,5):\\n    for j in range(i):\\n        pdb.set_trace()', 'pdb': <module 'pdb' from 'C:\\\\Users\\\\Ankesh\\\\Anaconda3\\\\lib\\\\pdb.py'>, 'i': 4, 'j': 0}\n",
      "(Pdb) p locals()\n",
      "{'__name__': '__main__', '__doc__': 'Automatically created module for IPython interactive environment', '__package__': None, '__loader__': None, '__spec__': None, '__builtin__': <module 'builtins' (built-in)>, '__builtins__': <module 'builtins' (built-in)>, '_ih': ['', 'import pdb\\n\\nfor i in range (1,5):\\n    for j in range(i):\\n        pdb.set_trace()'], '_oh': {}, '_dh': ['C:\\\\Users\\\\Ankesh'], 'In': ['', 'import pdb\\n\\nfor i in range (1,5):\\n    for j in range(i):\\n        pdb.set_trace()'], 'Out': {}, 'get_ipython': <bound method InteractiveShell.get_ipython of <ipykernel.zmqshell.ZMQInteractiveShell object at 0x000001EBFD0E8AC8>>, 'exit': <IPython.core.autocall.ZMQExitAutocall object at 0x000001EBFD1465C0>, 'quit': <IPython.core.autocall.ZMQExitAutocall object at 0x000001EBFD1465C0>, '_': '', '__': '', '___': '', '_i': '', '_ii': '', '_iii': '', '_i1': 'import pdb\\n\\nfor i in range (1,5):\\n    for j in range(i):\\n        pdb.set_trace()', 'pdb': <module 'pdb' from 'C:\\\\Users\\\\Ankesh\\\\Anaconda3\\\\lib\\\\pdb.py'>, 'i': 4, 'j': 0}\n",
      "(Pdb) next\n",
      "> <ipython-input-1-0e27aa4945d0>(5)<module>()\n",
      "-> pdb.set_trace()\n",
      "(Pdb) p locals()\n",
      "{'__name__': '__main__', '__doc__': 'Automatically created module for IPython interactive environment', '__package__': None, '__loader__': None, '__spec__': None, '__builtin__': <module 'builtins' (built-in)>, '__builtins__': <module 'builtins' (built-in)>, '_ih': ['', 'import pdb\\n\\nfor i in range (1,5):\\n    for j in range(i):\\n        pdb.set_trace()'], '_oh': {}, '_dh': ['C:\\\\Users\\\\Ankesh'], 'In': ['', 'import pdb\\n\\nfor i in range (1,5):\\n    for j in range(i):\\n        pdb.set_trace()'], 'Out': {}, 'get_ipython': <bound method InteractiveShell.get_ipython of <ipykernel.zmqshell.ZMQInteractiveShell object at 0x000001EBFD0E8AC8>>, 'exit': <IPython.core.autocall.ZMQExitAutocall object at 0x000001EBFD1465C0>, 'quit': <IPython.core.autocall.ZMQExitAutocall object at 0x000001EBFD1465C0>, '_': '', '__': '', '___': '', '_i': '', '_ii': '', '_iii': '', '_i1': 'import pdb\\n\\nfor i in range (1,5):\\n    for j in range(i):\\n        pdb.set_trace()', 'pdb': <module 'pdb' from 'C:\\\\Users\\\\Ankesh\\\\Anaconda3\\\\lib\\\\pdb.py'>, 'i': 4, 'j': 1}\n"
     ]
    }
   ],
   "source": [
    "import pdb\n",
    "\n",
    "for i in range (1,5):\n",
    "    for j in range(i):\n",
    "        pdb.set_trace()"
   ]
  },
  {
   "cell_type": "code",
   "execution_count": null,
   "metadata": {},
   "outputs": [],
   "source": []
  }
 ],
 "metadata": {
  "kernelspec": {
   "display_name": "Python 3",
   "language": "python",
   "name": "python3"
  },
  "language_info": {
   "codemirror_mode": {
    "name": "ipython",
    "version": 3
   },
   "file_extension": ".py",
   "mimetype": "text/x-python",
   "name": "python",
   "nbconvert_exporter": "python",
   "pygments_lexer": "ipython3",
   "version": "3.7.3"
  }
 },
 "nbformat": 4,
 "nbformat_minor": 2
}
